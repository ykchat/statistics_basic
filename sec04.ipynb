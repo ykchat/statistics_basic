{
 "cells": [
  {
   "cell_type": "code",
   "execution_count": 1,
   "metadata": {},
   "outputs": [],
   "source": [
    "from scipy import stats\n",
    "import numpy as np"
   ]
  },
  {
   "cell_type": "markdown",
   "metadata": {},
   "source": [
    "#### 36. 標準正規分布の両側5%点"
   ]
  },
  {
   "cell_type": "code",
   "execution_count": 2,
   "metadata": {},
   "outputs": [
    {
     "data": {
      "text/plain": [
       "(-1.959963984540054, 1.959963984540054)"
      ]
     },
     "execution_count": 2,
     "metadata": {},
     "output_type": "execute_result"
    }
   ],
   "source": [
    "mu = 0\n",
    "sigma = 1\n",
    "\n",
    "alpha = 0.95\n",
    "\n",
    "stats.norm.interval(confidence=alpha, loc=mu, scale=sigma)"
   ]
  },
  {
   "cell_type": "markdown",
   "metadata": {},
   "source": [
    "#### 37. 母平均の区間推定"
   ]
  },
  {
   "cell_type": "code",
   "execution_count": 3,
   "metadata": {},
   "outputs": [
    {
     "data": {
      "text/plain": [
       "array([160.20018008, 179.79981992])"
      ]
     },
     "execution_count": 3,
     "metadata": {},
     "output_type": "execute_result"
    }
   ],
   "source": [
    "sample = 170 #標本データ\n",
    "sigma = 5 #標準偏差\n",
    "\n",
    "alpha = 0.95 #信頼度\n",
    "ci = stats.norm.interval(confidence=alpha, loc=0, scale=1)\n",
    "\n",
    "sample + np.array(ci) * sigma #信頼区間"
   ]
  },
  {
   "cell_type": "markdown",
   "metadata": {},
   "source": [
    "#### 40. 標本平均を用いた区間推定"
   ]
  },
  {
   "cell_type": "code",
   "execution_count": 4,
   "metadata": {},
   "outputs": [
    {
     "data": {
      "text/plain": [
       "array([165.10009004, 174.89990996])"
      ]
     },
     "execution_count": 4,
     "metadata": {},
     "output_type": "execute_result"
    }
   ],
   "source": [
    "mu = 170 #標本平均 \n",
    "sigma = 5 #標本標準偏差\n",
    "\n",
    "n = 4 #標本数\n",
    "mu = mu #標本平均の平均\n",
    "sigma = np.sqrt(sigma**2/n) #h標本平均の標準偏差\n",
    "\n",
    "alpha = 0.95 #信頼度\n",
    "ci = stats.norm.interval(confidence=alpha, loc=0, scale=1)\n",
    "\n",
    "mu + np.array(ci) * sigma #信頼区間"
   ]
  }
 ],
 "metadata": {
  "kernelspec": {
   "display_name": "Python 3.10.6 ('env': venv)",
   "language": "python",
   "name": "python3"
  },
  "language_info": {
   "codemirror_mode": {
    "name": "ipython",
    "version": 3
   },
   "file_extension": ".py",
   "mimetype": "text/x-python",
   "name": "python",
   "nbconvert_exporter": "python",
   "pygments_lexer": "ipython3",
   "version": "3.10.6"
  },
  "orig_nbformat": 4,
  "vscode": {
   "interpreter": {
    "hash": "8a1055c5c0081cf6771657e47b761b2330efb8ef19a7f340aecc7cb535363160"
   }
  }
 },
 "nbformat": 4,
 "nbformat_minor": 2
}
