{
 "cells": [
  {
   "cell_type": "code",
   "execution_count": 1,
   "metadata": {},
   "outputs": [],
   "source": [
    "from scipy import stats\n",
    "import numpy as np\n",
    "import pandas as pd"
   ]
  },
  {
   "cell_type": "code",
   "execution_count": 2,
   "metadata": {},
   "outputs": [],
   "source": [
    "%matplotlib inline\n",
    "import seaborn as sns\n",
    "\n",
    "sns.set()"
   ]
  },
  {
   "cell_type": "markdown",
   "metadata": {},
   "source": [
    "#### 62. 母平均の検定（t検定）"
   ]
  },
  {
   "cell_type": "code",
   "execution_count": 3,
   "metadata": {},
   "outputs": [],
   "source": [
    "n = 9 #標本数\n",
    "mu = 170 #標本平均 \n",
    "sigma = 5.2 #不偏分散\n",
    "\n",
    "#帰無仮説: 母平均は165cmである\n",
    "#対立仮説: 母平均は165cmより高い\n",
    "\n",
    "expected = 165\n",
    "\n",
    "alpha = 0.95 #y有意水準"
   ]
  },
  {
   "cell_type": "code",
   "execution_count": 4,
   "metadata": {},
   "outputs": [
    {
     "name": "stdout",
     "output_type": "stream",
     "text": [
      "t値: 2.8846153846153846\n",
      "p値: 0.010183372003112291\n",
      "棄却: True\n"
     ]
    }
   ],
   "source": [
    "t = (mu - expected)/np.sqrt(sigma**2/n) #検定統計量\n",
    "dof = n-1 #自由度\n",
    "p = stats.t.sf(t, n-1) #検定統計量より高い事象の起こる確率\n",
    "\n",
    "print(f\"t値: {t}\")\n",
    "print(f\"p値: {p}\")\n",
    "print(f\"棄却: {p < (1-alpha)}\")"
   ]
  },
  {
   "cell_type": "markdown",
   "metadata": {},
   "source": [
    "#### 63. 母平均の差の検定（ウェルチのｔ検定）"
   ]
  },
  {
   "cell_type": "code",
   "execution_count": 5,
   "metadata": {},
   "outputs": [],
   "source": [
    "n_a = 9\n",
    "mu_a = 170\n",
    "sigma_a = 5.2\n",
    "\n",
    "n_b = 12\n",
    "mu_b = 167\n",
    "sigma_b = 4.9\n",
    "\n",
    "#帰無仮説: AとBの平均の差はない\n",
    "#対立仮説: Aの平均はBの平均より高い\n",
    "\n",
    "alpha = 0.05 #有意水準"
   ]
  },
  {
   "cell_type": "code",
   "execution_count": 6,
   "metadata": {},
   "outputs": [
    {
     "name": "stdout",
     "output_type": "stream",
     "text": [
      "t値: 1.3409332583841793\n",
      "p値: 0.09879269944696872\n",
      "棄却: False\n"
     ]
    }
   ],
   "source": [
    "t = ((mu_a - mu_b) - 0)/np.sqrt(sigma_a**2/n_a + sigma_b**2/n_b) #検定統計量\n",
    "dof = round((sigma_a**2/n_a + sigma_b**2/n_b)**2/((sigma_a**2/n_a)**2/(n_a-1) + (sigma_b**2/n_b)**2/(n_b-1))) #自由度\n",
    "p = stats.t.sf(t, dof) #検定統計量より高い事象の起こる確率\n",
    "\n",
    "print(f\"t値: {t}\")\n",
    "print(f\"p値: {p}\")\n",
    "print(f\"棄却: {p < alpha}\")"
   ]
  },
  {
   "cell_type": "code",
   "execution_count": 7,
   "metadata": {},
   "outputs": [
    {
     "name": "stdout",
     "output_type": "stream",
     "text": [
      "t値: 1.3409332583841793\n",
      "p値: 0.09890216210944502\n",
      "棄却: False\n"
     ]
    }
   ],
   "source": [
    "t, p = stats.ttest_ind_from_stats(\n",
    "    mu_a, sigma_a, n_a, \n",
    "    mu_b, sigma_b, n_b, \n",
    "    equal_var=False, alternative=\"greater\")\n",
    "\n",
    "print(f\"t値: {t}\")\n",
    "print(f\"p値: {p}\")\n",
    "print(f\"棄却: {p < alpha}\")"
   ]
  },
  {
   "cell_type": "markdown",
   "metadata": {},
   "source": [
    "#### 67. カイ二乗検定（独立性の検定）"
   ]
  },
  {
   "cell_type": "code",
   "execution_count": 8,
   "metadata": {},
   "outputs": [],
   "source": [
    "data = np.array([\n",
    "    [7, 3],\n",
    "    [13, 27]\n",
    "]) #標本データ\n",
    "\n",
    "#帰無仮説: 独立である\n",
    "#対立仮説: 独立でない\n",
    "\n",
    "alpha = 0.05 #有意水準"
   ]
  },
  {
   "cell_type": "code",
   "execution_count": 9,
   "metadata": {},
   "outputs": [
    {
     "name": "stdout",
     "output_type": "stream",
     "text": [
      "帰無仮説:\n",
      "[[ 4.  6.]\n",
      " [16. 24.]]\n",
      "t値: 4.6875\n",
      "p値: 0.030382821976577483\n",
      "棄却: True\n"
     ]
    }
   ],
   "source": [
    "sum_0 = np.sum(data, axis=0).reshape(1, -1)\n",
    "sum_1 = np.sum(data, axis=1).reshape(-1, 1)\n",
    "sum = np.sum(data)\n",
    "expected = np.dot(sum_1, sum_0)/sum #帰無仮説のデータ\n",
    "\n",
    "t = np.sum((data - expected)**2 / expected) #検定統計量\n",
    "dof = np.prod(np.array(data.shape) - 1) #自由度\n",
    "p = stats.chi2.sf(t, dof) #検定統計量より高い事象の起こる確率\n",
    "\n",
    "print(\"帰無仮説:\")\n",
    "print(expected)\n",
    "print(f\"t値: {t}\")\n",
    "print(f\"p値: {p}\")\n",
    "print(f\"棄却: {p < alpha}\")"
   ]
  },
  {
   "cell_type": "code",
   "execution_count": 10,
   "metadata": {},
   "outputs": [
    {
     "name": "stdout",
     "output_type": "stream",
     "text": [
      "帰無仮説:\n",
      "[[ 4.  6.]\n",
      " [16. 24.]]\n",
      "t値: 4.6875\n",
      "p値: 0.030382821976577483\n",
      "棄却: True\n"
     ]
    }
   ],
   "source": [
    "t, p, dof, expected = stats.chi2_contingency(data, correction=False)\n",
    "\n",
    "print(\"帰無仮説:\")\n",
    "print(expected)\n",
    "print(f\"t値: {t}\")\n",
    "print(f\"p値: {p}\")\n",
    "print(f\"棄却: {p < alpha}\")"
   ]
  }
 ],
 "metadata": {
  "kernelspec": {
   "display_name": "Python 3.10.6 ('env': venv)",
   "language": "python",
   "name": "python3"
  },
  "language_info": {
   "codemirror_mode": {
    "name": "ipython",
    "version": 3
   },
   "file_extension": ".py",
   "mimetype": "text/x-python",
   "name": "python",
   "nbconvert_exporter": "python",
   "pygments_lexer": "ipython3",
   "version": "3.10.6"
  },
  "orig_nbformat": 4,
  "vscode": {
   "interpreter": {
    "hash": "8a1055c5c0081cf6771657e47b761b2330efb8ef19a7f340aecc7cb535363160"
   }
  }
 },
 "nbformat": 4,
 "nbformat_minor": 2
}
